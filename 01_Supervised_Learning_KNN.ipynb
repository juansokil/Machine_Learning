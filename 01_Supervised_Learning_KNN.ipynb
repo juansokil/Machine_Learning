{
  "nbformat": 4,
  "nbformat_minor": 0,
  "metadata": {
    "colab": {
      "name": "01-Supervised Learning - KNN",
      "provenance": [],
      "collapsed_sections": [],
      "authorship_tag": "ABX9TyNVddGiYQTMimKwHrhGDNts",
      "include_colab_link": true
    },
    "kernelspec": {
      "name": "python3",
      "display_name": "Python 3"
    }
  },
  "cells": [
    {
      "cell_type": "markdown",
      "metadata": {
        "id": "view-in-github",
        "colab_type": "text"
      },
      "source": [
        "<a href=\"https://colab.research.google.com/github/juansokil/Machine_Learning/blob/master/01_Supervised_Learning_KNN.ipynb\" target=\"_parent\"><img src=\"https://colab.research.google.com/assets/colab-badge.svg\" alt=\"Open In Colab\"/></a>"
      ]
    },
    {
      "cell_type": "markdown",
      "metadata": {
        "id": "Lzsc9SEXD3Q3",
        "colab_type": "text"
      },
      "source": [
        "**Supervised learning:**\n",
        "\n",
        "*   Classification: Target variable consists of categories\n",
        "\n",
        "K-Nearest Neighbors (KNN) -Clasifica a partir de similitud con los k mas parecidos etiquetados (Vota por mayoria)"
      ]
    },
    {
      "cell_type": "code",
      "metadata": {
        "id": "fsypGigGEg3M",
        "colab_type": "code",
        "colab": {}
      },
      "source": [
        "from sklearn import datasets\n",
        "import pandas as pd\n",
        "import numpy as np\n",
        "import matplotlib.pyplot as plt"
      ],
      "execution_count": 0,
      "outputs": []
    },
    {
      "cell_type": "code",
      "metadata": {
        "id": "FcjJ6gzVEKat",
        "colab_type": "code",
        "colab": {
          "base_uri": "https://localhost:8080/",
          "height": 34
        },
        "outputId": "7e65ea14-0e6d-4c77-df46-80fccc6e9e2e"
      },
      "source": [
        "iris=datasets.load_iris()\n",
        "iris.data.shape"
      ],
      "execution_count": 11,
      "outputs": [
        {
          "output_type": "execute_result",
          "data": {
            "text/plain": [
              "(150, 4)"
            ]
          },
          "metadata": {
            "tags": []
          },
          "execution_count": 11
        }
      ]
    },
    {
      "cell_type": "markdown",
      "metadata": {
        "id": "L455hJSPNtMr",
        "colab_type": "text"
      },
      "source": [
        "A-Modelo Base"
      ]
    },
    {
      "cell_type": "code",
      "metadata": {
        "id": "LcBRpk1xNdJO",
        "colab_type": "code",
        "colab": {
          "base_uri": "https://localhost:8080/",
          "height": 34
        },
        "outputId": "3307a544-56a2-4438-b56e-aa52924e7639"
      },
      "source": [
        "from sklearn.neighbors import KNeighborsClassifier\n",
        "\n",
        "####Definir el modelo####\n",
        "knn = KNeighborsClassifier(n_neighbors=7)\n",
        "\n",
        "# Separar el DF de los predictores y del target#\n",
        "X = iris.data\n",
        "y = iris.target\n",
        "\n",
        "# Separar el DF de los predictores y del target#\n",
        "#X = iris.drop(columns=['target'])\n",
        "#y = iris['target'].values\n",
        "\n",
        "# Fit the classifier to the training data\n",
        "knn.fit(X, y)\n",
        "\n",
        "# Print the accuracy\n",
        "print(knn.score(X, y))\n"
      ],
      "execution_count": 25,
      "outputs": [
        {
          "output_type": "stream",
          "text": [
            "0.9733333333333334\n"
          ],
          "name": "stdout"
        }
      ]
    },
    {
      "cell_type": "markdown",
      "metadata": {
        "id": "a2dcIqYiPFmN",
        "colab_type": "text"
      },
      "source": [
        "El dia de mañana me aparecen nuevos casos:"
      ]
    },
    {
      "cell_type": "code",
      "metadata": {
        "id": "OgWaRqgxPAHB",
        "colab_type": "code",
        "colab": {
          "base_uri": "https://localhost:8080/",
          "height": 34
        },
        "outputId": "e20268d1-3ede-4b3f-95df-f31fcffdca22"
      },
      "source": [
        "##########NUEVOS DATOS#################\n",
        "################Agrego nuevos casos####\n",
        "new_flowers=np.array([[4.9, 6.1 , 1.4, 0.2],\n",
        "                      [1.9, 6.1 , 2.4, 6.2],\n",
        "                      [2.3, 1.6 , 3.4, 2.2]])\n",
        "\n",
        "##################3#########Predecir####\n",
        "new_prediction = knn.predict(new_flowers)\n",
        "print(\"Prediction: {}\".format(new_prediction)) "
      ],
      "execution_count": 26,
      "outputs": [
        {
          "output_type": "stream",
          "text": [
            "Prediction: [0 1 1]\n"
          ],
          "name": "stdout"
        }
      ]
    },
    {
      "cell_type": "markdown",
      "metadata": {
        "id": "3jpkTZK4F-c4",
        "colab_type": "text"
      },
      "source": [
        "B-Modelo Train-Test"
      ]
    },
    {
      "cell_type": "code",
      "metadata": {
        "id": "ZVatkIe3GfGQ",
        "colab_type": "code",
        "colab": {}
      },
      "source": [
        "from sklearn.model_selection import train_test_split\n",
        "\n",
        "# Separar el DF de los predictores y del target#\n",
        "X = iris.data\n",
        "y = iris.target\n",
        "\n",
        "#Hago los train-test\n",
        "X_train, X_test, y_train, y_test = train_test_split(X, y, test_size=0.3, random_state=21, stratify=y)\n",
        "\n",
        "from sklearn.neighbors import KNeighborsClassifier\n",
        "\n",
        "####Definir el modelo####\n",
        "knn = KNeighborsClassifier(n_neighbors=7)\n",
        "\n",
        "# Fit the classifier to the training data\n",
        "knn.fit(X_train, y_train)\n",
        "\n",
        "# Print the accuracy\n",
        "print(knn.score(X_test, y_test))"
      ],
      "execution_count": 0,
      "outputs": []
    },
    {
      "cell_type": "markdown",
      "metadata": {
        "id": "JG-gwlTIH5TR",
        "colab_type": "text"
      },
      "source": [
        "Metricas de evaluación:\n",
        "Accuracy=Fraction of correct predictions"
      ]
    },
    {
      "cell_type": "code",
      "metadata": {
        "id": "yEVP8tG7IKKF",
        "colab_type": "code",
        "colab": {
          "base_uri": "https://localhost:8080/",
          "height": 34
        },
        "outputId": "49d12ce8-84d8-4b16-88b5-a0fe9600ae82"
      },
      "source": [
        "# Setup arrays to store train and test accuracies\n",
        "neighbors = np.arange(1, 12)\n",
        "train_accuracy = np.empty(len(neighbors))\n",
        "test_accuracy = np.empty(len(neighbors))\n",
        "\n",
        "# Loop over different values of k\n",
        "for i, k in enumerate(neighbors):\n",
        "    # Setup a k-NN Classifier with k neighbors: knn\n",
        "    knn = KNeighborsClassifier(n_neighbors=k)\n",
        "\n",
        "    # Fit the classifier to the training data\n",
        "    knn.fit(X_train, y_train)\n",
        "    \n",
        "    #Compute accuracy on the training set\n",
        "    train_accuracy[i] = knn.score(X_train, y_train)\n",
        "\n",
        "    #Compute accuracy on the testing set\n",
        "    test_accuracy[i] = knn.score(X_test, y_test)\n",
        "\n",
        "# Generate plot\n",
        "plt.title('k-NN: Varying Number of Neighbors')\n",
        "plt.plot(neighbors, test_accuracy, label = 'Testing Accuracy')\n",
        "plt.plot(neighbors, train_accuracy, label = 'Training Accuracy')\n",
        "plt.legend()\n",
        "plt.xlabel('Number of Neighbors')\n",
        "plt.ylabel('Accuracy')\n",
        "plt.show()\n",
        "\n"
      ],
      "execution_count": 15,
      "outputs": [
        {
          "output_type": "stream",
          "text": [
            "0.9555555555555556\n"
          ],
          "name": "stdout"
        }
      ]
    },
    {
      "cell_type": "markdown",
      "metadata": {
        "id": "6V8QihFNMnXQ",
        "colab_type": "text"
      },
      "source": [
        "C - Modelo cross-validation"
      ]
    },
    {
      "cell_type": "code",
      "metadata": {
        "id": "nN3mOgc4J_1D",
        "colab_type": "code",
        "colab": {
          "base_uri": "https://localhost:8080/",
          "height": 51
        },
        "outputId": "9f0b3122-89eb-4540-9fe1-d0d32c2c8225"
      },
      "source": [
        "from sklearn.model_selection import cross_val_score\n",
        "import numpy as np\n",
        "#create a new KNN model\n",
        "knn_cv = KNeighborsClassifier(n_neighbors=3)\n",
        "#train model with cv of 5 \n",
        "cv_scores = cross_val_score(knn_cv, X, y, cv=5)\n",
        "#print each cv score (accuracy) and average them\n",
        "print(cv_scores)\n",
        "print('cv_scores mean:{}'.format(np.mean(cv_scores)))"
      ],
      "execution_count": 19,
      "outputs": [
        {
          "output_type": "stream",
          "text": [
            "[0.96666667 0.96666667 0.93333333 0.96666667 1.        ]\n",
            "cv_scores mean:0.9666666666666668\n"
          ],
          "name": "stdout"
        }
      ]
    },
    {
      "cell_type": "markdown",
      "metadata": {
        "id": "HC32Ph4oM0iW",
        "colab_type": "text"
      },
      "source": [
        "D - Grid Search: Se puede utilizar Grid-Search para encontrar el parametro optimo para nuestro modelo."
      ]
    },
    {
      "cell_type": "code",
      "metadata": {
        "id": "0irOs9FbMzjj",
        "colab_type": "code",
        "colab": {
          "base_uri": "https://localhost:8080/",
          "height": 204
        },
        "outputId": "1c033a92-d522-4cec-da4d-7c5b0eb830e6"
      },
      "source": [
        "from sklearn.model_selection import GridSearchCV\n",
        "#create new a knn model\n",
        "knn2 = KNeighborsClassifier()\n",
        "#create a dictionary of all values we want to test for n_neighbors\n",
        "param_grid = {'n_neighbors': np.arange(1, 25)}\n",
        "#use gridsearch to test all values for n_neighbors\n",
        "knn_gscv = GridSearchCV(knn2, param_grid, cv=5)\n",
        "#fit model to data\n",
        "knn_gscv.fit(X, y)"
      ],
      "execution_count": 21,
      "outputs": [
        {
          "output_type": "execute_result",
          "data": {
            "text/plain": [
              "GridSearchCV(cv=5, error_score=nan,\n",
              "             estimator=KNeighborsClassifier(algorithm='auto', leaf_size=30,\n",
              "                                            metric='minkowski',\n",
              "                                            metric_params=None, n_jobs=None,\n",
              "                                            n_neighbors=5, p=2,\n",
              "                                            weights='uniform'),\n",
              "             iid='deprecated', n_jobs=None,\n",
              "             param_grid={'n_neighbors': array([ 1,  2,  3,  4,  5,  6,  7,  8,  9, 10, 11, 12, 13, 14, 15, 16, 17,\n",
              "       18, 19, 20, 21, 22, 23, 24])},\n",
              "             pre_dispatch='2*n_jobs', refit=True, return_train_score=False,\n",
              "             scoring=None, verbose=0)"
            ]
          },
          "metadata": {
            "tags": []
          },
          "execution_count": 21
        }
      ]
    },
    {
      "cell_type": "code",
      "metadata": {
        "id": "CNH3epbLM7Yg",
        "colab_type": "code",
        "colab": {
          "base_uri": "https://localhost:8080/",
          "height": 51
        },
        "outputId": "9bb8751d-3968-481d-9094-b5d1ec1a12c5"
      },
      "source": [
        "#check top performing n_neighbors value\n",
        "print(knn_gscv.best_params_)\n",
        "\n",
        "#check mean score for the top performing value of n_neighbors\n",
        "print(knn_gscv.best_score_)\n"
      ],
      "execution_count": 24,
      "outputs": [
        {
          "output_type": "stream",
          "text": [
            "{'n_neighbors': 6}\n",
            "0.9800000000000001\n"
          ],
          "name": "stdout"
        }
      ]
    }
  ]
}